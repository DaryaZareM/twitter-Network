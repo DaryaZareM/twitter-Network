{
 "cells": [
  {
   "cell_type": "code",
   "execution_count": 49,
   "metadata": {},
   "outputs": [],
   "source": [
    "import json\n",
    "import pandas as pd\n",
    "import numpy as np"
   ]
  },
  {
   "cell_type": "code",
   "execution_count": 18,
   "metadata": {},
   "outputs": [],
   "source": [
    "path='Talabeh'\n",
    "post='.json'\n",
    "with open(path+post, 'r') as f:\n",
    "    datastore = json.load(f)"
   ]
  },
  {
   "cell_type": "code",
   "execution_count": 28,
   "metadata": {},
   "outputs": [],
   "source": [
    "users=[]\n",
    "for item in datastore:\n",
    "    users.append(item)"
   ]
  },
  {
   "cell_type": "code",
   "execution_count": 29,
   "metadata": {},
   "outputs": [
    {
     "data": {
      "text/plain": [
       "16703"
      ]
     },
     "execution_count": 29,
     "metadata": {},
     "output_type": "execute_result"
    }
   ],
   "source": [
    "len(users)"
   ]
  },
  {
   "cell_type": "code",
   "execution_count": 25,
   "metadata": {},
   "outputs": [],
   "source": [
    "keys=list(datastore['1124032931171852290'].keys())"
   ]
  },
  {
   "cell_type": "code",
   "execution_count": 37,
   "metadata": {},
   "outputs": [],
   "source": [
    "mykeys=['screen_name',\n",
    "        'is_retweet',\n",
    "        'retweeted_from_id',\n",
    "        'retweeted_from_sn',]"
   ]
  },
  {
   "cell_type": "code",
   "execution_count": 40,
   "metadata": {},
   "outputs": [],
   "source": [
    "data=[[],[],[],[]]\n",
    "for user_id in users:\n",
    "    for it, k in enumerate(mykeys):\n",
    "        try:\n",
    "            data[it].append(datastore[user_id][k])\n",
    "        except:\n",
    "            data[it].append('NAN')"
   ]
  },
  {
   "cell_type": "code",
   "execution_count": 43,
   "metadata": {},
   "outputs": [],
   "source": [
    "data=[users]+data"
   ]
  },
  {
   "cell_type": "code",
   "execution_count": 51,
   "metadata": {},
   "outputs": [],
   "source": [
    "data=np.array(data)\n",
    "data=data.T"
   ]
  },
  {
   "cell_type": "code",
   "execution_count": 52,
   "metadata": {},
   "outputs": [],
   "source": [
    "df = pd.DataFrame(data, columns =['user_id']+mykeys)"
   ]
  },
  {
   "cell_type": "code",
   "execution_count": 53,
   "metadata": {},
   "outputs": [
    {
     "data": {
      "text/html": [
       "<div>\n",
       "<style scoped>\n",
       "    .dataframe tbody tr th:only-of-type {\n",
       "        vertical-align: middle;\n",
       "    }\n",
       "\n",
       "    .dataframe tbody tr th {\n",
       "        vertical-align: top;\n",
       "    }\n",
       "\n",
       "    .dataframe thead th {\n",
       "        text-align: right;\n",
       "    }\n",
       "</style>\n",
       "<table border=\"1\" class=\"dataframe\">\n",
       "  <thead>\n",
       "    <tr style=\"text-align: right;\">\n",
       "      <th></th>\n",
       "      <th>user_id</th>\n",
       "      <th>is_retweet</th>\n",
       "      <th>retweeted_from_sn</th>\n",
       "      <th>retweeted_from_id</th>\n",
       "      <th>screen_name</th>\n",
       "    </tr>\n",
       "  </thead>\n",
       "  <tbody>\n",
       "    <tr>\n",
       "      <th>0</th>\n",
       "      <td>1124032931171852290</td>\n",
       "      <td>True</td>\n",
       "      <td>ZiaNabavi1</td>\n",
       "      <td>989801651333722112</td>\n",
       "      <td>daneshzade</td>\n",
       "    </tr>\n",
       "    <tr>\n",
       "      <th>1</th>\n",
       "      <td>1124031785510342662</td>\n",
       "      <td>False</td>\n",
       "      <td>NAN</td>\n",
       "      <td>NAN</td>\n",
       "      <td>AN8HBsJHf9SycyK</td>\n",
       "    </tr>\n",
       "    <tr>\n",
       "      <th>2</th>\n",
       "      <td>1124030541437767681</td>\n",
       "      <td>True</td>\n",
       "      <td>smvaziri</td>\n",
       "      <td>800735873134301184</td>\n",
       "      <td>amin_rt07</td>\n",
       "    </tr>\n",
       "    <tr>\n",
       "      <th>3</th>\n",
       "      <td>1124030210293288961</td>\n",
       "      <td>False</td>\n",
       "      <td>NAN</td>\n",
       "      <td>NAN</td>\n",
       "      <td>smvaziri</td>\n",
       "    </tr>\n",
       "    <tr>\n",
       "      <th>4</th>\n",
       "      <td>1124024118477828096</td>\n",
       "      <td>False</td>\n",
       "      <td>NAN</td>\n",
       "      <td>NAN</td>\n",
       "      <td>Mahdicomes</td>\n",
       "    </tr>\n",
       "    <tr>\n",
       "      <th>...</th>\n",
       "      <td>...</td>\n",
       "      <td>...</td>\n",
       "      <td>...</td>\n",
       "      <td>...</td>\n",
       "      <td>...</td>\n",
       "    </tr>\n",
       "    <tr>\n",
       "      <th>16698</th>\n",
       "      <td>1122082390086750208</td>\n",
       "      <td>False</td>\n",
       "      <td>NAN</td>\n",
       "      <td>NAN</td>\n",
       "      <td>qomnews</td>\n",
       "    </tr>\n",
       "    <tr>\n",
       "      <th>16699</th>\n",
       "      <td>1122075624099721216</td>\n",
       "      <td>True</td>\n",
       "      <td>yjcagency</td>\n",
       "      <td>799220534617800704</td>\n",
       "      <td>mobinfaradid</td>\n",
       "    </tr>\n",
       "    <tr>\n",
       "      <th>16700</th>\n",
       "      <td>1122074287748321280</td>\n",
       "      <td>False</td>\n",
       "      <td>NAN</td>\n",
       "      <td>NAN</td>\n",
       "      <td>yjcagency</td>\n",
       "    </tr>\n",
       "    <tr>\n",
       "      <th>16701</th>\n",
       "      <td>1122071846978035718</td>\n",
       "      <td>False</td>\n",
       "      <td>NAN</td>\n",
       "      <td>NAN</td>\n",
       "      <td>chandsanieh</td>\n",
       "    </tr>\n",
       "    <tr>\n",
       "      <th>16702</th>\n",
       "      <td>1122067906513256448</td>\n",
       "      <td>False</td>\n",
       "      <td>NAN</td>\n",
       "      <td>NAN</td>\n",
       "      <td>Tasnimnews_Fa</td>\n",
       "    </tr>\n",
       "  </tbody>\n",
       "</table>\n",
       "<p>16703 rows × 5 columns</p>\n",
       "</div>"
      ],
      "text/plain": [
       "                   user_id is_retweet retweeted_from_sn   retweeted_from_id  \\\n",
       "0      1124032931171852290       True        ZiaNabavi1  989801651333722112   \n",
       "1      1124031785510342662      False               NAN                 NAN   \n",
       "2      1124030541437767681       True          smvaziri  800735873134301184   \n",
       "3      1124030210293288961      False               NAN                 NAN   \n",
       "4      1124024118477828096      False               NAN                 NAN   \n",
       "...                    ...        ...               ...                 ...   \n",
       "16698  1122082390086750208      False               NAN                 NAN   \n",
       "16699  1122075624099721216       True         yjcagency  799220534617800704   \n",
       "16700  1122074287748321280      False               NAN                 NAN   \n",
       "16701  1122071846978035718      False               NAN                 NAN   \n",
       "16702  1122067906513256448      False               NAN                 NAN   \n",
       "\n",
       "           screen_name  \n",
       "0           daneshzade  \n",
       "1      AN8HBsJHf9SycyK  \n",
       "2            amin_rt07  \n",
       "3             smvaziri  \n",
       "4           Mahdicomes  \n",
       "...                ...  \n",
       "16698          qomnews  \n",
       "16699     mobinfaradid  \n",
       "16700        yjcagency  \n",
       "16701      chandsanieh  \n",
       "16702    Tasnimnews_Fa  \n",
       "\n",
       "[16703 rows x 5 columns]"
      ]
     },
     "execution_count": 53,
     "metadata": {},
     "output_type": "execute_result"
    }
   ],
   "source": [
    "df"
   ]
  },
  {
   "cell_type": "code",
   "execution_count": null,
   "metadata": {},
   "outputs": [],
   "source": [
    "\n",
    "\n",
    "with open(\"/tmp/sarcasm.json\", 'r') as f:\n",
    "    datastore = json.load(f)\n",
    "path='Talabeh'\n",
    "post='.json'\n",
    "for i in range(8):\n",
    "    with open(\"/tmp/sarcasm.json\", 'r') as f:\n",
    "    datastore += json.load(f)\n",
    "\n",
    "sentences = [] \n",
    "labels = []\n",
    "urls = []\n",
    "for item in datastore:\n",
    "    sentences.append(item['headline'])\n",
    "    labels.append(item['is_sarcastic'])\n",
    "    urls.append(item['article_link'])"
   ]
  }
 ],
 "metadata": {
  "kernelspec": {
   "display_name": "Python 3",
   "language": "python",
   "name": "python3"
  },
  "language_info": {
   "codemirror_mode": {
    "name": "ipython",
    "version": 3
   },
   "file_extension": ".py",
   "mimetype": "text/x-python",
   "name": "python",
   "nbconvert_exporter": "python",
   "pygments_lexer": "ipython3",
   "version": "3.7.7"
  }
 },
 "nbformat": 4,
 "nbformat_minor": 4
}
